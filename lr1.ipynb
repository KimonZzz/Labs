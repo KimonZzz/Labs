{
 "cells": [
  {
   "cell_type": "code",
   "execution_count": 2,
   "metadata": {
    "colab": {
     "base_uri": "https://localhost:8080/"
    },
    "id": "BQoRmNTgHT9X",
    "outputId": "35f5df89-3b4c-4730-b33f-8d2b02145a97"
   },
   "outputs": [],
   "source": [
    "#from google.colab import drive\n",
    "#drive.mount('/content/drive', force_remount=True)\n",
    "path = \"/Users/andrejsilaev/Downloads/MMO-main/lr1\"\n",
    "\n",
    "import numpy as np\n",
    "import pandas as pd\n",
    "import matplotlib.pyplot as plt\n",
    "import seaborn as sns"
   ]
  },
  {
   "cell_type": "code",
   "execution_count": 3,
   "metadata": {
    "id": "heuxh7wcOBd_"
   },
   "outputs": [],
   "source": [
    "data = pd.read_csv(path+'/Video_Games_Sales.csv')"
   ]
  },
  {
   "cell_type": "code",
   "execution_count": 4,
   "metadata": {
    "colab": {
     "base_uri": "https://localhost:8080/",
     "height": 292
    },
    "id": "Hw5QW1wSPH0T",
    "outputId": "fe19b285-59c1-4b27-b7c7-cbd0a2ad31b7"
   },
   "outputs": [
    {
     "data": {
      "text/html": [
       "<div>\n",
       "<style scoped>\n",
       "    .dataframe tbody tr th:only-of-type {\n",
       "        vertical-align: middle;\n",
       "    }\n",
       "\n",
       "    .dataframe tbody tr th {\n",
       "        vertical-align: top;\n",
       "    }\n",
       "\n",
       "    .dataframe thead th {\n",
       "        text-align: right;\n",
       "    }\n",
       "</style>\n",
       "<table border=\"1\" class=\"dataframe\">\n",
       "  <thead>\n",
       "    <tr style=\"text-align: right;\">\n",
       "      <th></th>\n",
       "      <th>Name</th>\n",
       "      <th>Platform</th>\n",
       "      <th>Year_of_Release</th>\n",
       "      <th>Genre</th>\n",
       "      <th>Publisher</th>\n",
       "      <th>NA_Sales</th>\n",
       "      <th>EU_Sales</th>\n",
       "      <th>JP_Sales</th>\n",
       "      <th>Other_Sales</th>\n",
       "      <th>Global_Sales</th>\n",
       "      <th>Critic_Score</th>\n",
       "      <th>Critic_Count</th>\n",
       "      <th>User_Score</th>\n",
       "      <th>User_Count</th>\n",
       "      <th>Developer</th>\n",
       "      <th>Rating</th>\n",
       "    </tr>\n",
       "  </thead>\n",
       "  <tbody>\n",
       "    <tr>\n",
       "      <th>0</th>\n",
       "      <td>Wii Sports</td>\n",
       "      <td>Wii</td>\n",
       "      <td>2006.0</td>\n",
       "      <td>Sports</td>\n",
       "      <td>Nintendo</td>\n",
       "      <td>41.36</td>\n",
       "      <td>28.96</td>\n",
       "      <td>3.77</td>\n",
       "      <td>8.45</td>\n",
       "      <td>82.53</td>\n",
       "      <td>76.0</td>\n",
       "      <td>51.0</td>\n",
       "      <td>8</td>\n",
       "      <td>322.0</td>\n",
       "      <td>Nintendo</td>\n",
       "      <td>E</td>\n",
       "    </tr>\n",
       "    <tr>\n",
       "      <th>1</th>\n",
       "      <td>Super Mario Bros.</td>\n",
       "      <td>NES</td>\n",
       "      <td>1985.0</td>\n",
       "      <td>Platform</td>\n",
       "      <td>Nintendo</td>\n",
       "      <td>29.08</td>\n",
       "      <td>3.58</td>\n",
       "      <td>6.81</td>\n",
       "      <td>0.77</td>\n",
       "      <td>40.24</td>\n",
       "      <td>NaN</td>\n",
       "      <td>NaN</td>\n",
       "      <td>NaN</td>\n",
       "      <td>NaN</td>\n",
       "      <td>NaN</td>\n",
       "      <td>NaN</td>\n",
       "    </tr>\n",
       "    <tr>\n",
       "      <th>2</th>\n",
       "      <td>Mario Kart Wii</td>\n",
       "      <td>Wii</td>\n",
       "      <td>2008.0</td>\n",
       "      <td>Racing</td>\n",
       "      <td>Nintendo</td>\n",
       "      <td>15.68</td>\n",
       "      <td>12.76</td>\n",
       "      <td>3.79</td>\n",
       "      <td>3.29</td>\n",
       "      <td>35.52</td>\n",
       "      <td>82.0</td>\n",
       "      <td>73.0</td>\n",
       "      <td>8.3</td>\n",
       "      <td>709.0</td>\n",
       "      <td>Nintendo</td>\n",
       "      <td>E</td>\n",
       "    </tr>\n",
       "    <tr>\n",
       "      <th>3</th>\n",
       "      <td>Wii Sports Resort</td>\n",
       "      <td>Wii</td>\n",
       "      <td>2009.0</td>\n",
       "      <td>Sports</td>\n",
       "      <td>Nintendo</td>\n",
       "      <td>15.61</td>\n",
       "      <td>10.93</td>\n",
       "      <td>3.28</td>\n",
       "      <td>2.95</td>\n",
       "      <td>32.77</td>\n",
       "      <td>80.0</td>\n",
       "      <td>73.0</td>\n",
       "      <td>8</td>\n",
       "      <td>192.0</td>\n",
       "      <td>Nintendo</td>\n",
       "      <td>E</td>\n",
       "    </tr>\n",
       "    <tr>\n",
       "      <th>4</th>\n",
       "      <td>Pokemon Red/Pokemon Blue</td>\n",
       "      <td>GB</td>\n",
       "      <td>1996.0</td>\n",
       "      <td>Role-Playing</td>\n",
       "      <td>Nintendo</td>\n",
       "      <td>11.27</td>\n",
       "      <td>8.89</td>\n",
       "      <td>10.22</td>\n",
       "      <td>1.00</td>\n",
       "      <td>31.37</td>\n",
       "      <td>NaN</td>\n",
       "      <td>NaN</td>\n",
       "      <td>NaN</td>\n",
       "      <td>NaN</td>\n",
       "      <td>NaN</td>\n",
       "      <td>NaN</td>\n",
       "    </tr>\n",
       "  </tbody>\n",
       "</table>\n",
       "</div>"
      ],
      "text/plain": [
       "                       Name Platform  Year_of_Release         Genre Publisher  \\\n",
       "0                Wii Sports      Wii           2006.0        Sports  Nintendo   \n",
       "1         Super Mario Bros.      NES           1985.0      Platform  Nintendo   \n",
       "2            Mario Kart Wii      Wii           2008.0        Racing  Nintendo   \n",
       "3         Wii Sports Resort      Wii           2009.0        Sports  Nintendo   \n",
       "4  Pokemon Red/Pokemon Blue       GB           1996.0  Role-Playing  Nintendo   \n",
       "\n",
       "   NA_Sales  EU_Sales  JP_Sales  Other_Sales  Global_Sales  Critic_Score  \\\n",
       "0     41.36     28.96      3.77         8.45         82.53          76.0   \n",
       "1     29.08      3.58      6.81         0.77         40.24           NaN   \n",
       "2     15.68     12.76      3.79         3.29         35.52          82.0   \n",
       "3     15.61     10.93      3.28         2.95         32.77          80.0   \n",
       "4     11.27      8.89     10.22         1.00         31.37           NaN   \n",
       "\n",
       "   Critic_Count User_Score  User_Count Developer Rating  \n",
       "0          51.0          8       322.0  Nintendo      E  \n",
       "1           NaN        NaN         NaN       NaN    NaN  \n",
       "2          73.0        8.3       709.0  Nintendo      E  \n",
       "3          73.0          8       192.0  Nintendo      E  \n",
       "4           NaN        NaN         NaN       NaN    NaN  "
      ]
     },
     "execution_count": 4,
     "metadata": {},
     "output_type": "execute_result"
    }
   ],
   "source": [
    "data.head()"
   ]
  },
  {
   "cell_type": "code",
   "execution_count": 5,
   "metadata": {
    "colab": {
     "base_uri": "https://localhost:8080/"
    },
    "id": "xF8nU6jlr9_d",
    "outputId": "b9deb723-8f83-4abd-a253-318b513ed830"
   },
   "outputs": [
    {
     "name": "stdout",
     "output_type": "stream",
     "text": [
      "<class 'pandas.core.frame.DataFrame'>\n",
      "RangeIndex: 16719 entries, 0 to 16718\n",
      "Data columns (total 16 columns):\n",
      " #   Column           Non-Null Count  Dtype  \n",
      "---  ------           --------------  -----  \n",
      " 0   Name             16717 non-null  object \n",
      " 1   Platform         16719 non-null  object \n",
      " 2   Year_of_Release  16450 non-null  float64\n",
      " 3   Genre            16717 non-null  object \n",
      " 4   Publisher        16665 non-null  object \n",
      " 5   NA_Sales         16719 non-null  float64\n",
      " 6   EU_Sales         16719 non-null  float64\n",
      " 7   JP_Sales         16719 non-null  float64\n",
      " 8   Other_Sales      16719 non-null  float64\n",
      " 9   Global_Sales     16719 non-null  float64\n",
      " 10  Critic_Score     8137 non-null   float64\n",
      " 11  Critic_Count     8137 non-null   float64\n",
      " 12  User_Score       10015 non-null  object \n",
      " 13  User_Count       7590 non-null   float64\n",
      " 14  Developer        10096 non-null  object \n",
      " 15  Rating           9950 non-null   object \n",
      "dtypes: float64(9), object(7)\n",
      "memory usage: 2.0+ MB\n"
     ]
    }
   ],
   "source": [
    "data.info()"
   ]
  },
  {
   "cell_type": "code",
   "execution_count": 6,
   "metadata": {
    "colab": {
     "base_uri": "https://localhost:8080/"
    },
    "id": "gDkeAzMivsS1",
    "outputId": "ba52f8ab-b810-4102-c478-b681b1ef2145"
   },
   "outputs": [
    {
     "data": {
      "text/plain": [
       "Name               False\n",
       "Platform           False\n",
       "Year_of_Release    False\n",
       "Genre              False\n",
       "Publisher          False\n",
       "NA_Sales           False\n",
       "EU_Sales           False\n",
       "JP_Sales           False\n",
       "Other_Sales        False\n",
       "Global_Sales       False\n",
       "Critic_Score       False\n",
       "Critic_Count       False\n",
       "User_Score         False\n",
       "User_Count         False\n",
       "Developer          False\n",
       "Rating             False\n",
       "dtype: bool"
      ]
     },
     "execution_count": 6,
     "metadata": {},
     "output_type": "execute_result"
    }
   ],
   "source": [
    "data.isnull().all()"
   ]
  },
  {
   "cell_type": "code",
   "execution_count": 7,
   "metadata": {
    "colab": {
     "base_uri": "https://localhost:8080/"
    },
    "id": "80dyhPGjvyNs",
    "outputId": "58507e33-7ce3-45f2-a433-b17245b153c6"
   },
   "outputs": [
    {
     "data": {
      "text/plain": [
       "0.00    5874\n",
       "0.01    1494\n",
       "0.02    1308\n",
       "0.03     926\n",
       "0.04     709\n",
       "        ... \n",
       "9.14       1\n",
       "1.92       1\n",
       "3.86       1\n",
       "2.59       1\n",
       "3.87       1\n",
       "Name: EU_Sales, Length: 307, dtype: int64"
      ]
     },
     "execution_count": 7,
     "metadata": {},
     "output_type": "execute_result"
    }
   ],
   "source": [
    "data[\"EU_Sales\"].value_counts()"
   ]
  },
  {
   "cell_type": "code",
   "execution_count": 8,
   "metadata": {
    "colab": {
     "base_uri": "https://localhost:8080/",
     "height": 694
    },
    "id": "gcigFaJ7v4Ur",
    "outputId": "e1c81f7a-7710-4231-eb16-0d6168a25a37"
   },
   "outputs": [
    {
     "data": {
      "text/plain": [
       "<AxesSubplot:>"
      ]
     },
     "execution_count": 8,
     "metadata": {},
     "output_type": "execute_result"
    },
    {
     "data": {
      "image/png": "[encoded data removed]",
      "text/plain": [
       "<Figure size 936x720 with 2 Axes>"
      ]
     },
     "metadata": {
      "needs_background": "light"
     },
     "output_type": "display_data"
    }
   ],
   "source": [
    "plt.figure(figsize=(13,10))\n",
    "sns.heatmap(data.corr(), cmap=\"Oranges\", annot=True, linewidths=3)"
   ]
  },
  {
   "cell_type": "markdown",
   "metadata": {
    "id": "8H5iLH6Ib9us"
   },
   "source": [
    "Из матрицы корреляции видно, что наиболее сильно коррелируют показатели продаж Северной Америки и Европы"
   ]
  },
  {
   "cell_type": "code",
   "execution_count": 9,
   "metadata": {
    "colab": {
     "base_uri": "https://localhost:8080/",
     "height": 628
    },
    "id": "btZGywmWwRuq",
    "outputId": "da840f7b-3b0d-4020-a576-0eab6b45bfee"
   },
   "outputs": [
    {
     "data": {
      "text/plain": [
       "<AxesSubplot:xlabel='Platform', ylabel='count'>"
      ]
     },
     "execution_count": 9,
     "metadata": {},
     "output_type": "execute_result"
    },
    {
     "data": {
      "image/png": "[encoded data removed]",
      "text/plain": [
       "<Figure size 936x720 with 1 Axes>"
      ]
     },
     "metadata": {
      "needs_background": "light"
     },
     "output_type": "display_data"
    }
   ],
   "source": [
    "plt.figure(figsize=(13,10))\n",
    "sns.countplot(x=\"Platform\", data=data, order=data[\"Platform\"].value_counts().index)"
   ]
  },
  {
   "cell_type": "markdown",
   "metadata": {
    "id": "ITU5yEWBcUmE"
   },
   "source": [
    "Из графика видно, что количество игр на платфоме \"PS2\" наибольшее, дальше идёт жанр \"DS\", а меньше всего игр на платформе \"GG\"."
   ]
  },
  {
   "cell_type": "code",
   "execution_count": 10,
   "metadata": {
    "colab": {
     "base_uri": "https://localhost:8080/",
     "height": 1000
    },
    "id": "pF--goLA630k",
    "outputId": "d931e69c-74e4-416e-a972-7822b69d5846"
   },
   "outputs": [
    {
     "data": {
      "text/html": [
       "<div>\n",
       "<style scoped>\n",
       "    .dataframe tbody tr th:only-of-type {\n",
       "        vertical-align: middle;\n",
       "    }\n",
       "\n",
       "    .dataframe tbody tr th {\n",
       "        vertical-align: top;\n",
       "    }\n",
       "\n",
       "    .dataframe thead th {\n",
       "        text-align: right;\n",
       "    }\n",
       "</style>\n",
       "<table border=\"1\" class=\"dataframe\">\n",
       "  <thead>\n",
       "    <tr style=\"text-align: right;\">\n",
       "      <th></th>\n",
       "      <th>NA_Sales</th>\n",
       "      <th>EU_Sales</th>\n",
       "      <th>JP_Sales</th>\n",
       "      <th>Other_Sales</th>\n",
       "    </tr>\n",
       "    <tr>\n",
       "      <th>Year_of_Release</th>\n",
       "      <th></th>\n",
       "      <th></th>\n",
       "      <th></th>\n",
       "      <th></th>\n",
       "    </tr>\n",
       "  </thead>\n",
       "  <tbody>\n",
       "    <tr>\n",
       "      <th>1980.0</th>\n",
       "      <td>10.59</td>\n",
       "      <td>0.67</td>\n",
       "      <td>0.00</td>\n",
       "      <td>0.12</td>\n",
       "    </tr>\n",
       "    <tr>\n",
       "      <th>1981.0</th>\n",
       "      <td>33.40</td>\n",
       "      <td>1.96</td>\n",
       "      <td>0.00</td>\n",
       "      <td>0.32</td>\n",
       "    </tr>\n",
       "    <tr>\n",
       "      <th>1982.0</th>\n",
       "      <td>26.92</td>\n",
       "      <td>1.65</td>\n",
       "      <td>0.00</td>\n",
       "      <td>0.31</td>\n",
       "    </tr>\n",
       "    <tr>\n",
       "      <th>1983.0</th>\n",
       "      <td>7.76</td>\n",
       "      <td>0.80</td>\n",
       "      <td>8.10</td>\n",
       "      <td>0.14</td>\n",
       "    </tr>\n",
       "    <tr>\n",
       "      <th>1984.0</th>\n",
       "      <td>33.28</td>\n",
       "      <td>2.10</td>\n",
       "      <td>14.27</td>\n",
       "      <td>0.70</td>\n",
       "    </tr>\n",
       "    <tr>\n",
       "      <th>1985.0</th>\n",
       "      <td>33.73</td>\n",
       "      <td>4.74</td>\n",
       "      <td>14.56</td>\n",
       "      <td>0.92</td>\n",
       "    </tr>\n",
       "    <tr>\n",
       "      <th>1986.0</th>\n",
       "      <td>12.50</td>\n",
       "      <td>2.84</td>\n",
       "      <td>19.81</td>\n",
       "      <td>1.93</td>\n",
       "    </tr>\n",
       "    <tr>\n",
       "      <th>1987.0</th>\n",
       "      <td>8.46</td>\n",
       "      <td>1.41</td>\n",
       "      <td>11.63</td>\n",
       "      <td>0.20</td>\n",
       "    </tr>\n",
       "    <tr>\n",
       "      <th>1988.0</th>\n",
       "      <td>23.87</td>\n",
       "      <td>6.59</td>\n",
       "      <td>15.76</td>\n",
       "      <td>0.99</td>\n",
       "    </tr>\n",
       "    <tr>\n",
       "      <th>1989.0</th>\n",
       "      <td>45.15</td>\n",
       "      <td>8.44</td>\n",
       "      <td>18.36</td>\n",
       "      <td>1.50</td>\n",
       "    </tr>\n",
       "    <tr>\n",
       "      <th>1990.0</th>\n",
       "      <td>25.46</td>\n",
       "      <td>7.63</td>\n",
       "      <td>14.88</td>\n",
       "      <td>1.40</td>\n",
       "    </tr>\n",
       "    <tr>\n",
       "      <th>1991.0</th>\n",
       "      <td>12.76</td>\n",
       "      <td>3.95</td>\n",
       "      <td>14.78</td>\n",
       "      <td>0.74</td>\n",
       "    </tr>\n",
       "    <tr>\n",
       "      <th>1992.0</th>\n",
       "      <td>33.89</td>\n",
       "      <td>11.71</td>\n",
       "      <td>28.91</td>\n",
       "      <td>1.65</td>\n",
       "    </tr>\n",
       "    <tr>\n",
       "      <th>1993.0</th>\n",
       "      <td>16.90</td>\n",
       "      <td>5.18</td>\n",
       "      <td>25.36</td>\n",
       "      <td>0.97</td>\n",
       "    </tr>\n",
       "    <tr>\n",
       "      <th>1994.0</th>\n",
       "      <td>28.16</td>\n",
       "      <td>14.88</td>\n",
       "      <td>33.99</td>\n",
       "      <td>2.20</td>\n",
       "    </tr>\n",
       "    <tr>\n",
       "      <th>1995.0</th>\n",
       "      <td>24.83</td>\n",
       "      <td>14.90</td>\n",
       "      <td>45.75</td>\n",
       "      <td>2.64</td>\n",
       "    </tr>\n",
       "    <tr>\n",
       "      <th>1996.0</th>\n",
       "      <td>86.76</td>\n",
       "      <td>47.26</td>\n",
       "      <td>57.44</td>\n",
       "      <td>7.69</td>\n",
       "    </tr>\n",
       "    <tr>\n",
       "      <th>1997.0</th>\n",
       "      <td>94.75</td>\n",
       "      <td>48.32</td>\n",
       "      <td>48.87</td>\n",
       "      <td>9.13</td>\n",
       "    </tr>\n",
       "    <tr>\n",
       "      <th>1998.0</th>\n",
       "      <td>128.36</td>\n",
       "      <td>66.90</td>\n",
       "      <td>50.04</td>\n",
       "      <td>11.01</td>\n",
       "    </tr>\n",
       "    <tr>\n",
       "      <th>1999.0</th>\n",
       "      <td>126.06</td>\n",
       "      <td>62.67</td>\n",
       "      <td>52.34</td>\n",
       "      <td>10.04</td>\n",
       "    </tr>\n",
       "    <tr>\n",
       "      <th>2000.0</th>\n",
       "      <td>94.50</td>\n",
       "      <td>52.77</td>\n",
       "      <td>42.77</td>\n",
       "      <td>11.62</td>\n",
       "    </tr>\n",
       "    <tr>\n",
       "      <th>2001.0</th>\n",
       "      <td>173.98</td>\n",
       "      <td>94.89</td>\n",
       "      <td>39.86</td>\n",
       "      <td>22.73</td>\n",
       "    </tr>\n",
       "    <tr>\n",
       "      <th>2002.0</th>\n",
       "      <td>216.19</td>\n",
       "      <td>109.75</td>\n",
       "      <td>41.76</td>\n",
       "      <td>27.27</td>\n",
       "    </tr>\n",
       "    <tr>\n",
       "      <th>2003.0</th>\n",
       "      <td>193.61</td>\n",
       "      <td>103.81</td>\n",
       "      <td>34.20</td>\n",
       "      <td>25.92</td>\n",
       "    </tr>\n",
       "    <tr>\n",
       "      <th>2004.0</th>\n",
       "      <td>222.51</td>\n",
       "      <td>107.28</td>\n",
       "      <td>41.65</td>\n",
       "      <td>47.24</td>\n",
       "    </tr>\n",
       "    <tr>\n",
       "      <th>2005.0</th>\n",
       "      <td>242.15</td>\n",
       "      <td>121.11</td>\n",
       "      <td>54.27</td>\n",
       "      <td>40.29</td>\n",
       "    </tr>\n",
       "    <tr>\n",
       "      <th>2006.0</th>\n",
       "      <td>262.13</td>\n",
       "      <td>127.89</td>\n",
       "      <td>73.74</td>\n",
       "      <td>53.95</td>\n",
       "    </tr>\n",
       "    <tr>\n",
       "      <th>2007.0</th>\n",
       "      <td>309.89</td>\n",
       "      <td>157.82</td>\n",
       "      <td>60.29</td>\n",
       "      <td>76.75</td>\n",
       "    </tr>\n",
       "    <tr>\n",
       "      <th>2008.0</th>\n",
       "      <td>348.69</td>\n",
       "      <td>181.14</td>\n",
       "      <td>60.25</td>\n",
       "      <td>81.42</td>\n",
       "    </tr>\n",
       "    <tr>\n",
       "      <th>2009.0</th>\n",
       "      <td>335.55</td>\n",
       "      <td>187.94</td>\n",
       "      <td>61.89</td>\n",
       "      <td>73.44</td>\n",
       "    </tr>\n",
       "    <tr>\n",
       "      <th>2010.0</th>\n",
       "      <td>300.65</td>\n",
       "      <td>171.42</td>\n",
       "      <td>59.49</td>\n",
       "      <td>58.57</td>\n",
       "    </tr>\n",
       "    <tr>\n",
       "      <th>2011.0</th>\n",
       "      <td>238.79</td>\n",
       "      <td>162.97</td>\n",
       "      <td>53.07</td>\n",
       "      <td>52.75</td>\n",
       "    </tr>\n",
       "    <tr>\n",
       "      <th>2012.0</th>\n",
       "      <td>153.26</td>\n",
       "      <td>114.59</td>\n",
       "      <td>51.80</td>\n",
       "      <td>36.19</td>\n",
       "    </tr>\n",
       "    <tr>\n",
       "      <th>2013.0</th>\n",
       "      <td>153.65</td>\n",
       "      <td>121.55</td>\n",
       "      <td>47.69</td>\n",
       "      <td>38.35</td>\n",
       "    </tr>\n",
       "    <tr>\n",
       "      <th>2014.0</th>\n",
       "      <td>132.27</td>\n",
       "      <td>122.74</td>\n",
       "      <td>39.69</td>\n",
       "      <td>36.83</td>\n",
       "    </tr>\n",
       "    <tr>\n",
       "      <th>2015.0</th>\n",
       "      <td>106.86</td>\n",
       "      <td>96.72</td>\n",
       "      <td>34.09</td>\n",
       "      <td>30.31</td>\n",
       "    </tr>\n",
       "    <tr>\n",
       "      <th>2016.0</th>\n",
       "      <td>44.93</td>\n",
       "      <td>51.22</td>\n",
       "      <td>19.31</td>\n",
       "      <td>14.48</td>\n",
       "    </tr>\n",
       "    <tr>\n",
       "      <th>2017.0</th>\n",
       "      <td>0.00</td>\n",
       "      <td>0.00</td>\n",
       "      <td>0.06</td>\n",
       "      <td>0.00</td>\n",
       "    </tr>\n",
       "    <tr>\n",
       "      <th>2020.0</th>\n",
       "      <td>0.27</td>\n",
       "      <td>0.00</td>\n",
       "      <td>0.00</td>\n",
       "      <td>0.02</td>\n",
       "    </tr>\n",
       "  </tbody>\n",
       "</table>\n",
       "</div>"
      ],
      "text/plain": [
       "                 NA_Sales  EU_Sales  JP_Sales  Other_Sales\n",
       "Year_of_Release                                           \n",
       "1980.0              10.59      0.67      0.00         0.12\n",
       "1981.0              33.40      1.96      0.00         0.32\n",
       "1982.0              26.92      1.65      0.00         0.31\n",
       "1983.0               7.76      0.80      8.10         0.14\n",
       "1984.0              33.28      2.10     14.27         0.70\n",
       "1985.0              33.73      4.74     14.56         0.92\n",
       "1986.0              12.50      2.84     19.81         1.93\n",
       "1987.0               8.46      1.41     11.63         0.20\n",
       "1988.0              23.87      6.59     15.76         0.99\n",
       "1989.0              45.15      8.44     18.36         1.50\n",
       "1990.0              25.46      7.63     14.88         1.40\n",
       "1991.0              12.76      3.95     14.78         0.74\n",
       "1992.0              33.89     11.71     28.91         1.65\n",
       "1993.0              16.90      5.18     25.36         0.97\n",
       "1994.0              28.16     14.88     33.99         2.20\n",
       "1995.0              24.83     14.90     45.75         2.64\n",
       "1996.0              86.76     47.26     57.44         7.69\n",
       "1997.0              94.75     48.32     48.87         9.13\n",
       "1998.0             128.36     66.90     50.04        11.01\n",
       "1999.0             126.06     62.67     52.34        10.04\n",
       "2000.0              94.50     52.77     42.77        11.62\n",
       "2001.0             173.98     94.89     39.86        22.73\n",
       "2002.0             216.19    109.75     41.76        27.27\n",
       "2003.0             193.61    103.81     34.20        25.92\n",
       "2004.0             222.51    107.28     41.65        47.24\n",
       "2005.0             242.15    121.11     54.27        40.29\n",
       "2006.0             262.13    127.89     73.74        53.95\n",
       "2007.0             309.89    157.82     60.29        76.75\n",
       "2008.0             348.69    181.14     60.25        81.42\n",
       "2009.0             335.55    187.94     61.89        73.44\n",
       "2010.0             300.65    171.42     59.49        58.57\n",
       "2011.0             238.79    162.97     53.07        52.75\n",
       "2012.0             153.26    114.59     51.80        36.19\n",
       "2013.0             153.65    121.55     47.69        38.35\n",
       "2014.0             132.27    122.74     39.69        36.83\n",
       "2015.0             106.86     96.72     34.09        30.31\n",
       "2016.0              44.93     51.22     19.31        14.48\n",
       "2017.0               0.00      0.00      0.06         0.00\n",
       "2020.0               0.27      0.00      0.00         0.02"
      ]
     },
     "execution_count": 10,
     "metadata": {},
     "output_type": "execute_result"
    }
   ],
   "source": [
    "sales_data_year = data.groupby(by=\"Year_of_Release\").sum()\n",
    "sales_data_year.drop(columns=[\"Global_Sales\", \"Critic_Score\", \"Critic_Count\", \"User_Count\"], inplace=True)\n",
    "sales_data_year"
   ]
  },
  {
   "cell_type": "code",
   "execution_count": 11,
   "metadata": {
    "colab": {
     "base_uri": "https://localhost:8080/",
     "height": 628
    },
    "id": "QFPRn1Ys7xPf",
    "outputId": "05fbb0c7-27bb-4661-b9c0-fcf08fb652cf"
   },
   "outputs": [
    {
     "data": {
      "text/plain": [
       "Text(0, 0.5, 'Sales')"
      ]
     },
     "execution_count": 11,
     "metadata": {},
     "output_type": "execute_result"
    },
    {
     "data": {
      "image/png": "[encoded data removed]",
      "text/plain": [
       "<Figure size 720x720 with 1 Axes>"
      ]
     },
     "metadata": {
      "needs_background": "light"
     },
     "output_type": "display_data"
    }
   ],
   "source": [
    "sales_data_year = sales_data_year.apply(lambda x: x.astype(\"int\"))\n",
    "sales_data_year.plot.line(figsize=(10,10), grid=\"on\");\n",
    "plt.ylabel(\"Sales\")"
   ]
  },
  {
   "cell_type": "markdown",
   "metadata": {
    "id": "6Aml8AwockPd"
   },
   "source": [
    "После разбиения продажи игр по года получается, что в 2011 году больше всех заработала Северная Америка. Затем Европа. Далее идут другие страны. Япония получила наименьший доход."
   ]
  },
  {
   "cell_type": "code",
   "execution_count": 12,
   "metadata": {
    "colab": {
     "base_uri": "https://localhost:8080/",
     "height": 142
    },
    "id": "Zms3E6Cl_i_O",
    "outputId": "b73d8cfa-bcca-4e48-f447-24336bec936a"
   },
   "outputs": [
    {
     "data": {
      "text/html": [
       "<div>\n",
       "<style scoped>\n",
       "    .dataframe tbody tr th:only-of-type {\n",
       "        vertical-align: middle;\n",
       "    }\n",
       "\n",
       "    .dataframe tbody tr th {\n",
       "        vertical-align: top;\n",
       "    }\n",
       "\n",
       "    .dataframe thead th {\n",
       "        text-align: right;\n",
       "    }\n",
       "</style>\n",
       "<table border=\"1\" class=\"dataframe\">\n",
       "  <thead>\n",
       "    <tr style=\"text-align: right;\">\n",
       "      <th></th>\n",
       "      <th>region</th>\n",
       "      <th>sale</th>\n",
       "    </tr>\n",
       "  </thead>\n",
       "  <tbody>\n",
       "    <tr>\n",
       "      <th>0</th>\n",
       "      <td>NA_Sales</td>\n",
       "      <td>4402.62</td>\n",
       "    </tr>\n",
       "    <tr>\n",
       "      <th>1</th>\n",
       "      <td>EU_Sales</td>\n",
       "      <td>2424.67</td>\n",
       "    </tr>\n",
       "    <tr>\n",
       "      <th>2</th>\n",
       "      <td>JP_Sales</td>\n",
       "      <td>1297.43</td>\n",
       "    </tr>\n",
       "  </tbody>\n",
       "</table>\n",
       "</div>"
      ],
      "text/plain": [
       "     region     sale\n",
       "0  NA_Sales  4402.62\n",
       "1  EU_Sales  2424.67\n",
       "2  JP_Sales  1297.43"
      ]
     },
     "execution_count": 12,
     "metadata": {},
     "output_type": "execute_result"
    }
   ],
   "source": [
    "sales_region = data[[\"NA_Sales\", \"EU_Sales\", \"JP_Sales\"]]\n",
    "sales_region = sales_region.sum().reset_index()\n",
    "sales_region = sales_region.rename(columns={\"index\": \"region\", 0: \"sale\"})\n",
    "sales_region"
   ]
  },
  {
   "cell_type": "code",
   "execution_count": 13,
   "metadata": {
    "id": "mkI7pVF7BrUJ"
   },
   "outputs": [],
   "source": [
    "values = sales_region[\"region\"]\n",
    "sizes = sales_region[\"sale\"]"
   ]
  },
  {
   "cell_type": "code",
   "execution_count": 14,
   "metadata": {
    "colab": {
     "base_uri": "https://localhost:8080/",
     "height": 728
    },
    "id": "k4Gp0TNdGpsa",
    "outputId": "fda6706b-9291-41b7-da4a-bec1f95912cc"
   },
   "outputs": [
    {
     "data": {
      "text/plain": [
       "([<matplotlib.patches.Wedge at 0x7feae64efdc0>,\n",
       "  <matplotlib.patches.Wedge at 0x7feae64fe580>,\n",
       "  <matplotlib.patches.Wedge at 0x7feae64fecd0>],\n",
       " [Text(-1.0904930590581252, -0.14430830934514013, 'NA_Sales'),\n",
       "  Text(1.0255163791147273, -0.39788962812244694, 'EU_Sales'),\n",
       "  Text(0.5289876929807663, 0.964454260540585, 'JP_Sales')],\n",
       " [Text(-0.5948143958498864, -0.07871362327916734, '54.2%'),\n",
       "  Text(0.5593725704262148, -0.2170307062486074, '29.8%'),\n",
       "  Text(0.2885387416258725, 0.5260659602948645, '16.0%')])"
      ]
     },
     "execution_count": 14,
     "metadata": {},
     "output_type": "execute_result"
    },
    {
     "data": {
      "image/png": "[encoded data removed]",
      "text/plain": [
       "<Figure size 720x720 with 1 Axes>"
      ]
     },
     "metadata": {},
     "output_type": "display_data"
    }
   ],
   "source": [
    "plt.figure(figsize=(10,10))\n",
    "plt.pie(sizes, labels=values, autopct=\"%1.1f%%\", startangle=90)"
   ]
  },
  {
   "cell_type": "markdown",
   "metadata": {
    "id": "aP1dIGE_dI6h"
   },
   "source": [
    "Северная Америка имеет большую долю в продаже игр. На втором месте Европа, а на последнем Япония."
   ]
  },
  {
   "cell_type": "code",
   "execution_count": null,
   "metadata": {
    "id": "YsVN4UW1dH5C"
   },
   "outputs": [],
   "source": []
  }
 ],
 "metadata": {
  "colab": {
   "name": "lr1.ipynb",
   "provenance": []
  },
  "kernelspec": {
   "display_name": "Python 3",
   "language": "python",
   "name": "python3"
  },
  "language_info": {
   "codemirror_mode": {
    "name": "ipython",
    "version": 3
   },
   "file_extension": ".py",
   "mimetype": "text/x-python",
   "name": "python",
   "nbconvert_exporter": "python",
   "pygments_lexer": "ipython3",
   "version": "3.9.5"
  }
 },
 "nbformat": 4,
 "nbformat_minor": 1
}
