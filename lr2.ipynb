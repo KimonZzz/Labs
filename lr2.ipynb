{
 "cells": [
  {
   "cell_type": "markdown",
   "metadata": {
    "id": "HK6nhTdMomlS"
   },
   "source": [
    "## Лабораторная работа №2: \"Обработка признаков (часть 1)\"\n",
    "\n",
    "#### Задание:\n",
    "Выбрать набор данных (датасет), содержащий категориальные и числовые признаки и пропуски в данных. \n",
    "\n",
    "Для выполнения следующих пунктов можно использовать несколько различных наборов данных\n",
    "\n",
    "Для выбранного датасета (датасетов) на основе материалов лекций решить следующие задачи:\n",
    "*   устранение пропусков в данных;\n",
    "*   кодирование категориальных признаков;\n",
    "*   нормализацию числовых признаков.\n",
    "\n"
   ]
  },
  {
   "cell_type": "code",
   "execution_count": 53,
   "metadata": {
    "colab": {
     "base_uri": "https://localhost:8080/"
    },
    "id": "p6hT0-p8oikU",
    "outputId": "8877a919-7111-4032-e52a-e5405e261dfe"
   },
   "outputs": [],
   "source": [
    "#from google.colab import drive\n",
    "#drive.mount('/content/drive', force_remount=True)\n",
    "path = \"/Users/andrejsilaev/Downloads/MMO-main/lr2\""
   ]
  },
  {
   "cell_type": "code",
   "execution_count": 54,
   "metadata": {
    "id": "LI2fJXWQrPxc"
   },
   "outputs": [],
   "source": [
    "import numpy as np\n",
    "import pandas as pd\n",
    "import seaborn as sns\n",
    "import matplotlib.pyplot as plt\n",
    "from sklearn.impute import SimpleImputer\n",
    "from sklearn.impute import MissingIndicator\n",
    "from sklearn.impute import KNNImputer\n",
    "from sklearn.preprocessing import StandardScaler\n",
    "from sklearn.linear_model import Lasso\n",
    "from sklearn.pipeline import Pipeline\n",
    "from sklearn.model_selection import GridSearchCV\n",
    "from sklearn.ensemble import RandomForestRegressor\n",
    "from sklearn.experimental import enable_iterative_imputer\n",
    "from sklearn.impute import IterativeImputer\n",
    "from IPython.display import Image\n",
    "import scipy.stats as stats\n",
    "%matplotlib inline \n",
    "sns.set(style=\"ticks\")"
   ]
  },
  {
   "cell_type": "markdown",
   "metadata": {
    "id": "uSVOgIUWsCwi"
   },
   "source": [
    "#### Информация о датасете"
   ]
  },
  {
   "cell_type": "code",
   "execution_count": 55,
   "metadata": {
    "id": "w-a48OVysJ04"
   },
   "outputs": [],
   "source": [
    "dataset1 = pd.read_csv(path+'/heroes_information.csv')"
   ]
  },
  {
   "cell_type": "code",
   "execution_count": 56,
   "metadata": {
    "colab": {
     "base_uri": "https://localhost:8080/",
     "height": 204
    },
    "id": "rLbj-6NvsJxk",
    "outputId": "43a2400e-8a86-4339-8d0d-32cb9b3632e3"
   },
   "outputs": [
    {
     "data": {
      "text/html": [
       "<div>\n",
       "<style scoped>\n",
       "    .dataframe tbody tr th:only-of-type {\n",
       "        vertical-align: middle;\n",
       "    }\n",
       "\n",
       "    .dataframe tbody tr th {\n",
       "        vertical-align: top;\n",
       "    }\n",
       "\n",
       "    .dataframe thead th {\n",
       "        text-align: right;\n",
       "    }\n",
       "</style>\n",
       "<table border=\"1\" class=\"dataframe\">\n",
       "  <thead>\n",
       "    <tr style=\"text-align: right;\">\n",
       "      <th></th>\n",
       "      <th>Unnamed: 0</th>\n",
       "      <th>name</th>\n",
       "      <th>Gender</th>\n",
       "      <th>Eye color</th>\n",
       "      <th>Race</th>\n",
       "      <th>Hair color</th>\n",
       "      <th>Height</th>\n",
       "      <th>Publisher</th>\n",
       "      <th>Skin color</th>\n",
       "      <th>Alignment</th>\n",
       "      <th>Weight</th>\n",
       "    </tr>\n",
       "  </thead>\n",
       "  <tbody>\n",
       "    <tr>\n",
       "      <th>0</th>\n",
       "      <td>0</td>\n",
       "      <td>A-Bomb</td>\n",
       "      <td>Male</td>\n",
       "      <td>yellow</td>\n",
       "      <td>Human</td>\n",
       "      <td>No Hair</td>\n",
       "      <td>203.0</td>\n",
       "      <td>Marvel Comics</td>\n",
       "      <td>-</td>\n",
       "      <td>good</td>\n",
       "      <td>441.0</td>\n",
       "    </tr>\n",
       "    <tr>\n",
       "      <th>1</th>\n",
       "      <td>1</td>\n",
       "      <td>Abe Sapien</td>\n",
       "      <td>Male</td>\n",
       "      <td>blue</td>\n",
       "      <td>Icthyo Sapien</td>\n",
       "      <td>No Hair</td>\n",
       "      <td>191.0</td>\n",
       "      <td>Dark Horse Comics</td>\n",
       "      <td>blue</td>\n",
       "      <td>good</td>\n",
       "      <td>65.0</td>\n",
       "    </tr>\n",
       "    <tr>\n",
       "      <th>2</th>\n",
       "      <td>2</td>\n",
       "      <td>Abin Sur</td>\n",
       "      <td>Male</td>\n",
       "      <td>blue</td>\n",
       "      <td>Ungaran</td>\n",
       "      <td>No Hair</td>\n",
       "      <td>185.0</td>\n",
       "      <td>DC Comics</td>\n",
       "      <td>red</td>\n",
       "      <td>good</td>\n",
       "      <td>90.0</td>\n",
       "    </tr>\n",
       "    <tr>\n",
       "      <th>3</th>\n",
       "      <td>3</td>\n",
       "      <td>Abomination</td>\n",
       "      <td>Male</td>\n",
       "      <td>green</td>\n",
       "      <td>Human / Radiation</td>\n",
       "      <td>No Hair</td>\n",
       "      <td>203.0</td>\n",
       "      <td>Marvel Comics</td>\n",
       "      <td>-</td>\n",
       "      <td>bad</td>\n",
       "      <td>441.0</td>\n",
       "    </tr>\n",
       "    <tr>\n",
       "      <th>4</th>\n",
       "      <td>4</td>\n",
       "      <td>Abraxas</td>\n",
       "      <td>Male</td>\n",
       "      <td>blue</td>\n",
       "      <td>Cosmic Entity</td>\n",
       "      <td>Black</td>\n",
       "      <td>-99.0</td>\n",
       "      <td>Marvel Comics</td>\n",
       "      <td>-</td>\n",
       "      <td>bad</td>\n",
       "      <td>-99.0</td>\n",
       "    </tr>\n",
       "  </tbody>\n",
       "</table>\n",
       "</div>"
      ],
      "text/plain": [
       "   Unnamed: 0         name Gender Eye color               Race Hair color  \\\n",
       "0           0       A-Bomb   Male    yellow              Human    No Hair   \n",
       "1           1   Abe Sapien   Male      blue      Icthyo Sapien    No Hair   \n",
       "2           2     Abin Sur   Male      blue            Ungaran    No Hair   \n",
       "3           3  Abomination   Male     green  Human / Radiation    No Hair   \n",
       "4           4      Abraxas   Male      blue      Cosmic Entity      Black   \n",
       "\n",
       "   Height          Publisher Skin color Alignment  Weight  \n",
       "0   203.0      Marvel Comics          -      good   441.0  \n",
       "1   191.0  Dark Horse Comics       blue      good    65.0  \n",
       "2   185.0          DC Comics        red      good    90.0  \n",
       "3   203.0      Marvel Comics          -       bad   441.0  \n",
       "4   -99.0      Marvel Comics          -       bad   -99.0  "
      ]
     },
     "execution_count": 56,
     "metadata": {},
     "output_type": "execute_result"
    }
   ],
   "source": [
    "dataset1.head()"
   ]
  },
  {
   "cell_type": "code",
   "execution_count": 57,
   "metadata": {
    "colab": {
     "base_uri": "https://localhost:8080/"
    },
    "id": "jiMtlC0GsJkP",
    "outputId": "4076635e-7724-4b04-e482-b7f04b2396a9"
   },
   "outputs": [
    {
     "data": {
      "text/plain": [
       "(734, 11)"
      ]
     },
     "execution_count": 57,
     "metadata": {},
     "output_type": "execute_result"
    }
   ],
   "source": [
    "dataset1.shape"
   ]
  },
  {
   "cell_type": "code",
   "execution_count": 58,
   "metadata": {
    "colab": {
     "base_uri": "https://localhost:8080/"
    },
    "id": "745ByP6tsJZL",
    "outputId": "088cc323-7c1d-4762-eb5c-b81f028c7362"
   },
   "outputs": [
    {
     "data": {
      "text/plain": [
       "[('Unnamed: 0', ('int64', 0)),\n",
       " ('name', ('object', 0)),\n",
       " ('Gender', ('object', 0)),\n",
       " ('Eye color', ('object', 0)),\n",
       " ('Race', ('object', 0)),\n",
       " ('Hair color', ('object', 0)),\n",
       " ('Height', ('float64', 0)),\n",
       " ('Publisher', ('object', 15)),\n",
       " ('Skin color', ('object', 0)),\n",
       " ('Alignment', ('object', 0)),\n",
       " ('Weight', ('float64', 2))]"
      ]
     },
     "execution_count": 58,
     "metadata": {},
     "output_type": "execute_result"
    }
   ],
   "source": [
    "data_features1 = list(zip(\n",
    "# признаки\n",
    "[i for i in dataset1.columns],\n",
    "zip(\n",
    "    # типы колонок\n",
    "    [str(i) for i in dataset1.dtypes],\n",
    "    # проверим есть ли пропущенные значения\n",
    "    [i for i in dataset1.isnull().sum()]\n",
    ")))\n",
    "# Признаки с типом данных и количеством пропусков\n",
    "data_features1"
   ]
  },
  {
   "cell_type": "code",
   "execution_count": 59,
   "metadata": {
    "id": "_-BqduDluwrd"
   },
   "outputs": [],
   "source": [
    "# Колонки с пропусками\n",
    "columns_with_na = [c for c in dataset1.columns if dataset1[c].isnull().sum() > 0]\n",
    "data1_cat_new = dataset1[columns_with_na].copy() "
   ]
  },
  {
   "cell_type": "code",
   "execution_count": 60,
   "metadata": {
    "colab": {
     "base_uri": "https://localhost:8080/"
    },
    "id": "8rT2UQS2uUX9",
    "outputId": "a8b9402d-c392-4144-c7ab-2a163bf42fdb"
   },
   "outputs": [
    {
     "data": {
      "text/plain": [
       "[('Publisher', 0.020435967302452316), ('Weight', 0.0027247956403269754)]"
      ]
     },
     "execution_count": 60,
     "metadata": {},
     "output_type": "execute_result"
    }
   ],
   "source": [
    "# % пропусков\n",
    "[(c, dataset1[c].isnull().mean()) for c in columns_with_na]"
   ]
  },
  {
   "cell_type": "code",
   "execution_count": 61,
   "metadata": {
    "colab": {
     "base_uri": "https://localhost:8080/",
     "height": 204
    },
    "id": "rApi47Y0tJwM",
    "outputId": "899c1741-ba7e-471b-d48f-a04e6dba2b40"
   },
   "outputs": [
    {
     "data": {
      "text/html": [
       "<div>\n",
       "<style scoped>\n",
       "    .dataframe tbody tr th:only-of-type {\n",
       "        vertical-align: middle;\n",
       "    }\n",
       "\n",
       "    .dataframe tbody tr th {\n",
       "        vertical-align: top;\n",
       "    }\n",
       "\n",
       "    .dataframe thead th {\n",
       "        text-align: right;\n",
       "    }\n",
       "</style>\n",
       "<table border=\"1\" class=\"dataframe\">\n",
       "  <thead>\n",
       "    <tr style=\"text-align: right;\">\n",
       "      <th></th>\n",
       "      <th>name</th>\n",
       "      <th>Race</th>\n",
       "      <th>Publisher</th>\n",
       "      <th>Weight</th>\n",
       "    </tr>\n",
       "  </thead>\n",
       "  <tbody>\n",
       "    <tr>\n",
       "      <th>0</th>\n",
       "      <td>A-Bomb</td>\n",
       "      <td>Human</td>\n",
       "      <td>Marvel Comics</td>\n",
       "      <td>441.0</td>\n",
       "    </tr>\n",
       "    <tr>\n",
       "      <th>1</th>\n",
       "      <td>Abe Sapien</td>\n",
       "      <td>Icthyo Sapien</td>\n",
       "      <td>Dark Horse Comics</td>\n",
       "      <td>65.0</td>\n",
       "    </tr>\n",
       "    <tr>\n",
       "      <th>2</th>\n",
       "      <td>Abin Sur</td>\n",
       "      <td>Ungaran</td>\n",
       "      <td>DC Comics</td>\n",
       "      <td>90.0</td>\n",
       "    </tr>\n",
       "    <tr>\n",
       "      <th>3</th>\n",
       "      <td>Abomination</td>\n",
       "      <td>Human / Radiation</td>\n",
       "      <td>Marvel Comics</td>\n",
       "      <td>441.0</td>\n",
       "    </tr>\n",
       "    <tr>\n",
       "      <th>4</th>\n",
       "      <td>Abraxas</td>\n",
       "      <td>Cosmic Entity</td>\n",
       "      <td>Marvel Comics</td>\n",
       "      <td>-99.0</td>\n",
       "    </tr>\n",
       "  </tbody>\n",
       "</table>\n",
       "</div>"
      ],
      "text/plain": [
       "          name               Race          Publisher  Weight\n",
       "0       A-Bomb              Human      Marvel Comics   441.0\n",
       "1   Abe Sapien      Icthyo Sapien  Dark Horse Comics    65.0\n",
       "2     Abin Sur            Ungaran          DC Comics    90.0\n",
       "3  Abomination  Human / Radiation      Marvel Comics   441.0\n",
       "4      Abraxas      Cosmic Entity      Marvel Comics   -99.0"
      ]
     },
     "execution_count": 61,
     "metadata": {},
     "output_type": "execute_result"
    }
   ],
   "source": [
    "filtered_columns1 = ['name', 'Race', 'Publisher', 'Weight']\n",
    "data1 = dataset1[filtered_columns1]\n",
    "data1.head()"
   ]
  },
  {
   "cell_type": "markdown",
   "metadata": {
    "id": "oYk1mwQWyFos"
   },
   "source": [
    "#### Заполнение колонки Weight:"
   ]
  },
  {
   "cell_type": "code",
   "execution_count": 62,
   "metadata": {
    "id": "g2RqzrEOtJkk"
   },
   "outputs": [],
   "source": [
    "def impute_column(dataset, column, strategy_param, fill_value_param=None):\n",
    "    temp_data = dataset[[column]].values\n",
    "    size = temp_data.shape[0]\n",
    "    \n",
    "    indicator = MissingIndicator()\n",
    "    mask_missing_values_only = indicator.fit_transform(temp_data)\n",
    "    \n",
    "    imputer = SimpleImputer(strategy=strategy_param, \n",
    "                            fill_value=fill_value_param)\n",
    "    all_data = imputer.fit_transform(temp_data)\n",
    "    \n",
    "    missed_data = temp_data[mask_missing_values_only]\n",
    "    filled_data = all_data[mask_missing_values_only]\n",
    "    \n",
    "    return all_data.reshape((size,)), filled_data, missed_data"
   ]
  },
  {
   "cell_type": "code",
   "execution_count": 63,
   "metadata": {
    "colab": {
     "base_uri": "https://localhost:8080/"
    },
    "id": "0PjurBPYyXdY",
    "outputId": "357735bb-7b0d-4952-ceea-ece97baf3dd2"
   },
   "outputs": [
    {
     "data": {
      "text/plain": [
       "array([441.        ,  65.        ,  90.        , 441.        ,\n",
       "       -99.        , 122.        , -99.        ,  88.        ,\n",
       "        61.        ,  81.        , 104.        , 108.        ,\n",
       "        90.        ,  90.        , -99.        , -99.        ,\n",
       "        72.        , 169.        , -99.        , 173.        ,\n",
       "       101.        , -99.        ,  68.        , -99.        ,\n",
       "        57.        ,  54.        , -99.        ,  83.        ,\n",
       "        90.        , 122.        ,  86.        , -99.        ,\n",
       "       -99.        , 358.        , 135.        , -99.        ,\n",
       "       106.        , 146.        ,  63.        ,  68.        ,\n",
       "        57.        ,  98.        , 270.        ,  59.        ,\n",
       "        50.        , -99.        , -99.        , 101.        ,\n",
       "       126.        ,  68.        , -99.        ,  54.        ,\n",
       "        81.        , -99.        ,  72.        ,  63.        ,\n",
       "        67.        , -99.        , -99.        , 180.        ,\n",
       "        77.        ,  54.        , -99.        ,  57.        ,\n",
       "       -99.        ,  52.        , -99.        ,  61.        ,\n",
       "        95.        ,  77.        ,  79.        , 133.        ,\n",
       "       -99.        ,  63.        , 181.        ,  68.        ,\n",
       "       -99.        , -99.        , 216.        , -99.        ,\n",
       "       135.        , -99.        ,  71.        , -99.        ,\n",
       "       -99.        ,  54.        , -99.        , -99.        ,\n",
       "       -99.        , -99.        , -99.        , 124.        ,\n",
       "       155.        , -99.        , 113.        ,  95.        ,\n",
       "        58.        ,  59.        ,  54.        , -99.        ,\n",
       "       -99.        ,  86.        ,  90.        ,  52.        ,\n",
       "        92.        ,  90.        ,  59.        ,  61.        ,\n",
       "       104.        ,  86.        ,  88.        ,  97.        ,\n",
       "       -99.        ,  68.        ,  56.        , -99.        ,\n",
       "       -99.        ,  77.        , 230.        , 495.        ,\n",
       "       -99.        , -99.        , -99.        , -99.        ,\n",
       "        86.        , -99.        , -99.        , -99.        ,\n",
       "       -99.        ,  55.        , -99.        ,  97.        ,\n",
       "       -99.        , 110.        , -99.        , 135.        ,\n",
       "        61.        ,  99.        , -99.        ,  52.        ,\n",
       "        90.        ,  59.        , -99.        , -99.        ,\n",
       "       158.        ,  74.        , -99.        ,  81.        ,\n",
       "       108.        ,  90.        , 116.        , -99.        ,\n",
       "       -99.        , -99.        , 108.        ,  74.        ,\n",
       "       101.        ,  74.        , -99.        , -99.        ,\n",
       "       -99.        ,  86.        ,  61.        , -99.        ,\n",
       "        61.        ,  62.        ,  97.        , -99.        ,\n",
       "        63.        , -99.        ,  81.        ,  50.        ,\n",
       "        55.        ,  54.        ,  86.        , -99.        ,\n",
       "       170.        , -99.        , -99.        ,  70.        ,\n",
       "        78.        , -99.        , -99.        , -99.        ,\n",
       "       225.        ,  67.        ,  79.        ,  99.        ,\n",
       "       -99.        , 104.        ,  50.        , -99.        ,\n",
       "       -99.        , 173.        , -99.        ,  88.        ,\n",
       "        68.        ,  52.        , -99.        , -99.        ,\n",
       "        90.        ,  81.        , -99.        , 817.        ,\n",
       "       -99.        ,  56.        , -99.        , 135.        ,\n",
       "        27.        , -99.        ,  52.        ,  90.        ,\n",
       "        95.        ,  91.        , 178.        , 101.        ,\n",
       "        95.        , 383.        ,  90.        , -99.        ,\n",
       "       171.        , 187.        , 132.        ,  89.        ,\n",
       "       110.        ,  81.        ,  54.        , -99.        ,\n",
       "        63.        , 412.        , 104.        , -99.        ,\n",
       "       -99.        , 306.        , -99.        ,  56.        ,\n",
       "        74.        ,  59.        , -99.        ,  80.        ,\n",
       "        65.        ,  57.        , -99.        , -99.        ,\n",
       "       -99.        , 203.        ,  95.        , 106.        ,\n",
       "        88.        ,  96.        , 108.        , -99.        ,\n",
       "       -99.        ,  50.        , -99.        ,  18.        ,\n",
       "        56.        ,  99.        ,  56.        , -99.        ,\n",
       "        91.        , -99.        ,  81.        , -99.        ,\n",
       "        88.        ,  86.        ,  52.        ,  81.        ,\n",
       "        45.        ,  92.        , 104.        , 167.        ,\n",
       "        16.        ,  81.        ,  77.        , -99.        ,\n",
       "       -99.        , -99.        ,  86.        ,  99.        ,\n",
       "       -99.        , -99.        , -99.        , 630.        ,\n",
       "       268.        ,  50.        ,  43.85519126, -99.        ,\n",
       "        62.        , -99.        , -99.        , -99.        ,\n",
       "        90.        , 270.        , 115.        ,  79.        ,\n",
       "       -99.        ,  88.        ,  83.        ,  77.        ,\n",
       "        88.        ,  79.        ,   4.        , -99.        ,\n",
       "        95.        ,  90.        ,  79.        , -99.        ,\n",
       "        63.        , -99.        ,  79.        ,  89.        ,\n",
       "       104.        ,  57.        ,  61.        ,  88.        ,\n",
       "        54.        , -99.        ,  65.        ,  81.        ,\n",
       "       225.        , 158.        ,  61.        ,  81.        ,\n",
       "       146.        , -99.        , -99.        ,  83.        ,\n",
       "       -99.        ,  48.        ,  18.        , 630.        ,\n",
       "        77.        ,  59.        ,  58.        ,  77.        ,\n",
       "       119.        , 207.        ,  65.        ,  65.        ,\n",
       "        79.        , -99.        ,  81.        ,  54.        ,\n",
       "        79.        , 191.        ,   2.        , -99.        ,\n",
       "       -99.        ,  79.        ,  14.        , -99.        ,\n",
       "        77.        , -99.        , -99.        ,  52.        ,\n",
       "       -99.        ,  55.        , -99.        , -99.        ,\n",
       "        56.        , -99.        , 113.        , -99.        ,\n",
       "       -99.        , -99.        , -99.        ,  90.        ,\n",
       "        88.        ,  86.        ,  49.        ,  52.        ,\n",
       "       -99.        , 855.        , -99.        ,  81.        ,\n",
       "       -99.        , -99.        , 104.        ,  72.        ,\n",
       "       -99.        , -99.        , -99.        , -99.        ,\n",
       "       -99.        , -99.        , 356.        , -99.        ,\n",
       "       324.        ,  43.85519126, -99.        , 203.        ,\n",
       "        97.        , -99.        ,  99.        , 106.        ,\n",
       "        18.        ,  79.        , -99.        , -99.        ,\n",
       "        58.        ,  63.        , -99.        ,  59.        ,\n",
       "       -99.        ,  95.        ,  54.        ,  65.        ,\n",
       "        95.        , 360.        , -99.        , -99.        ,\n",
       "       230.        , 288.        , 236.        ,  36.        ,\n",
       "       191.        , -99.        ,  77.        , -99.        ,\n",
       "       -99.        ,  79.        , 383.        ,  86.        ,\n",
       "       -99.        , -99.        , -99.        , -99.        ,\n",
       "       225.        ,  90.        ,  97.        ,  52.        ,\n",
       "       135.        ,  56.        ,  81.        , -99.        ,\n",
       "       -99.        , -99.        , 110.        ,  72.        ,\n",
       "       -99.        ,  59.        ,  54.        , 140.        ,\n",
       "        72.        ,  90.        ,  90.        , -99.        ,\n",
       "        86.        , -99.        , -99.        ,  77.        ,\n",
       "       101.        , -99.        , -99.        ,  61.        ,\n",
       "        81.        ,  86.        , -99.        , -99.        ,\n",
       "       128.        , -99.        ,  61.        , 338.        ,\n",
       "       -99.        , -99.        , -99.        , 248.        ,\n",
       "        90.        , -99.        , 101.        ,  59.        ,\n",
       "        79.        ,  79.        ,  72.        ,  70.        ,\n",
       "       158.        ,  61.        ,  70.        ,  79.        ,\n",
       "        54.        , -99.        , 125.        ,  85.        ,\n",
       "       101.        ,  54.        , -99.        ,  83.        ,\n",
       "       -99.        ,  99.        ,  88.        ,  79.        ,\n",
       "       -99.        , -99.        , -99.        ,  83.        ,\n",
       "        86.        ,  59.        , 293.        , -99.        ,\n",
       "       191.        ,  65.        ,  69.        , -99.        ,\n",
       "       405.        ,  59.        , -99.        , -99.        ,\n",
       "       -99.        , -99.        , 117.        , -99.        ,\n",
       "       -99.        ,  89.        ,  79.        , -99.        ,\n",
       "       -99.        ,  54.        ,  52.        ,  87.        ,\n",
       "       -99.        ,  80.        ,  55.        ,  50.        ,\n",
       "        52.        ,  81.        , -99.        , 234.        ,\n",
       "        86.        ,  81.        , -99.        ,  70.        ,\n",
       "        90.        ,  74.        ,  68.        , -99.        ,\n",
       "       -99.        ,  83.        ,  79.        ,  56.        ,\n",
       "        97.        , -99.        ,  83.        , -99.        ,\n",
       "        50.        ,  70.        , 117.        ,  83.        ,\n",
       "        81.        , 630.        , -99.        ,  56.        ,\n",
       "       108.        , 146.        , -99.        , -99.        ,\n",
       "       -99.        , -99.        , 320.        ,  85.        ,\n",
       "       -99.        , -99.        ,  72.        ,  79.        ,\n",
       "       101.        ,  56.        ,  38.        , -99.        ,\n",
       "        25.        ,  54.        , 104.        ,  63.        ,\n",
       "       171.        ,  61.        , 203.        , 900.        ,\n",
       "       -99.        , -99.        ,  63.        ,  74.        ,\n",
       "       113.        ,  59.        , -99.        , 310.        ,\n",
       "       -99.        ,  87.        , 149.        ,  54.        ,\n",
       "        50.        ,  79.        ,  88.        , 315.        ,\n",
       "       153.        ,  79.        ,  52.        , -99.        ,\n",
       "       191.        , -99.        , -99.        , -99.        ,\n",
       "       101.        ,  50.        , -99.        ,  92.        ,\n",
       "        72.        , -99.        ,  52.        , 180.        ,\n",
       "       -99.        ,  49.        , -99.        , 437.        ,\n",
       "        65.        , 113.        , 405.        , -99.        ,\n",
       "       -99.        , -99.        , -99.        , -99.        ,\n",
       "        54.        ,  56.        ,  74.        ,  77.        ,\n",
       "        56.        ,  59.        , -99.        ,  55.        ,\n",
       "        58.        ,  81.        ,  83.        , -99.        ,\n",
       "        79.        , -99.        ,  71.        ,  62.        ,\n",
       "        63.        , 131.        , -99.        ,  91.        ,\n",
       "        57.        , -99.        ,  77.        ,  68.        ,\n",
       "        77.        ,  54.        , 101.        , -99.        ,\n",
       "        47.        , -99.        ,  74.        , 146.        ,\n",
       "       176.        , 198.        , 149.        ,  99.        ,\n",
       "        54.        , 443.        , -99.        , 101.        ,\n",
       "       225.        , 288.        , 143.        , 101.        ,\n",
       "       -99.        ,  74.        , 288.        , 158.        ,\n",
       "       203.        ,  81.        ,  54.        , -99.        ,\n",
       "        76.        ,  97.        , 117.        , -99.        ,\n",
       "        81.        , -99.        ,  59.        ,  86.        ,\n",
       "        82.        , 105.        , 331.        ,  58.        ,\n",
       "        54.        ,  56.        , 214.        ,  79.        ,\n",
       "        73.        , 117.        ,  50.        , 334.        ,\n",
       "       -99.        ,  52.        ,  71.        ,  54.        ,\n",
       "       -99.        , -99.        ,  41.        , 135.        ,\n",
       "       135.        ,  63.        , -99.        ,  79.        ,\n",
       "       162.        ,  95.        ,  54.        , 108.        ,\n",
       "        67.        , 158.        ,  50.        , -99.        ,\n",
       "       -99.        , -99.        ,  65.        , -99.        ,\n",
       "       117.        ,  39.        , 473.        , 135.        ,\n",
       "        51.        , 171.        ,  74.        , -99.        ,\n",
       "       117.        ,  50.        ,  61.        ,  95.        ,\n",
       "        83.        ,  52.        , -99.        ,  17.        ,\n",
       "        57.        ,  81.        ])"
      ]
     },
     "execution_count": 63,
     "metadata": {},
     "output_type": "execute_result"
    }
   ],
   "source": [
    "all_data, filled_data, missed_data = impute_column(dataset1, 'Weight', 'mean')\n",
    "all_data"
   ]
  },
  {
   "cell_type": "code",
   "execution_count": 64,
   "metadata": {
    "colab": {
     "base_uri": "https://localhost:8080/"
    },
    "id": "R-glqY-5zU-f",
    "outputId": "5a001a77-73ea-495c-95ef-20f1770277ed"
   },
   "outputs": [
    {
     "data": {
      "text/plain": [
       "array([43.85519126, 43.85519126])"
      ]
     },
     "execution_count": 64,
     "metadata": {},
     "output_type": "execute_result"
    }
   ],
   "source": [
    "filled_data"
   ]
  },
  {
   "cell_type": "code",
   "execution_count": 65,
   "metadata": {
    "colab": {
     "base_uri": "https://localhost:8080/"
    },
    "id": "PnnlrCtwzU8B",
    "outputId": "50d51d1c-c714-4031-a86d-d67202aaa1d0"
   },
   "outputs": [
    {
     "data": {
      "text/plain": [
       "array([nan, nan])"
      ]
     },
     "execution_count": 65,
     "metadata": {},
     "output_type": "execute_result"
    }
   ],
   "source": [
    "missed_data"
   ]
  },
  {
   "cell_type": "markdown",
   "metadata": {
    "id": "KDwc19BY48W7"
   },
   "source": [
    "#### Заполнение колонки Publisher:"
   ]
  },
  {
   "cell_type": "code",
   "execution_count": 66,
   "metadata": {
    "id": "8l0VX9iI5DJL"
   },
   "outputs": [],
   "source": [
    "Publisher_cat_new_temp, _, _ = impute_column(data1_cat_new, 'Publisher', 'most_frequent')"
   ]
  },
  {
   "cell_type": "code",
   "execution_count": 67,
   "metadata": {
    "id": "I2wkKT0U5DGa"
   },
   "outputs": [],
   "source": [
    "data1_cat_new['Publisher'] = Publisher_cat_new_temp"
   ]
  },
  {
   "cell_type": "code",
   "execution_count": 68,
   "metadata": {
    "id": "adrCyL_M5DCb"
   },
   "outputs": [],
   "source": [
    "def plot_hist_diff(old_ds, new_ds, cols):\n",
    "    for c in cols:   \n",
    "        fig = plt.figure()\n",
    "        ax = fig.add_subplot(111)\n",
    "        ax.title.set_text('Поле - ' + str(c))\n",
    "        old_ds[c].hist(bins=50, ax=ax, density=True, color='green')\n",
    "        new_ds[c].hist(bins=50, ax=ax, color='blue', density=True, alpha=0.5)\n",
    "        plt.show()"
   ]
  },
  {
   "cell_type": "code",
   "execution_count": 69,
   "metadata": {
    "colab": {
     "base_uri": "https://localhost:8080/",
     "height": 551
    },
    "id": "STl-sdSID7G7",
    "outputId": "2756c091-5a35-4772-9f47-14627d409966"
   },
   "outputs": [
    {
     "data": {
      "image/png": "[encoded data removed]",
      "text/plain": [
       "<Figure size 432x288 with 1 Axes>"
      ]
     },
     "metadata": {},
     "output_type": "display_data"
    },
    {
     "data": {
      "image/png": "[encoded data removed]",
      "text/plain": [
       "<Figure size 432x288 with 1 Axes>"
      ]
     },
     "metadata": {},
     "output_type": "display_data"
    }
   ],
   "source": [
    "my_data = plot_hist_diff(dataset1, data1_cat_new, columns_with_na)"
   ]
  },
  {
   "cell_type": "markdown",
   "metadata": {
    "id": "gzATKjKQrlBU"
   },
   "source": [
    "#### Кодирование категориальных признаков (InternetService)"
   ]
  },
  {
   "cell_type": "code",
   "execution_count": 70,
   "metadata": {
    "id": "Apo2-N83rY75"
   },
   "outputs": [],
   "source": [
    "dataset2 = pd.read_csv(path+'/telecom_users.csv')"
   ]
  },
  {
   "cell_type": "code",
   "execution_count": 71,
   "metadata": {
    "colab": {
     "base_uri": "https://localhost:8080/",
     "height": 326
    },
    "id": "ONQUEcL2rbKU",
    "outputId": "2dcb3c24-dee7-41fb-bce4-27c7c9b40bd7"
   },
   "outputs": [
    {
     "data": {
      "text/html": [
       "<div>\n",
       "<style scoped>\n",
       "    .dataframe tbody tr th:only-of-type {\n",
       "        vertical-align: middle;\n",
       "    }\n",
       "\n",
       "    .dataframe tbody tr th {\n",
       "        vertical-align: top;\n",
       "    }\n",
       "\n",
       "    .dataframe thead th {\n",
       "        text-align: right;\n",
       "    }\n",
       "</style>\n",
       "<table border=\"1\" class=\"dataframe\">\n",
       "  <thead>\n",
       "    <tr style=\"text-align: right;\">\n",
       "      <th></th>\n",
       "      <th>Unnamed: 0</th>\n",
       "      <th>customerID</th>\n",
       "      <th>gender</th>\n",
       "      <th>SeniorCitizen</th>\n",
       "      <th>Partner</th>\n",
       "      <th>Dependents</th>\n",
       "      <th>tenure</th>\n",
       "      <th>PhoneService</th>\n",
       "      <th>MultipleLines</th>\n",
       "      <th>InternetService</th>\n",
       "      <th>...</th>\n",
       "      <th>DeviceProtection</th>\n",
       "      <th>TechSupport</th>\n",
       "      <th>StreamingTV</th>\n",
       "      <th>StreamingMovies</th>\n",
       "      <th>Contract</th>\n",
       "      <th>PaperlessBilling</th>\n",
       "      <th>PaymentMethod</th>\n",
       "      <th>MonthlyCharges</th>\n",
       "      <th>TotalCharges</th>\n",
       "      <th>Churn</th>\n",
       "    </tr>\n",
       "  </thead>\n",
       "  <tbody>\n",
       "    <tr>\n",
       "      <th>0</th>\n",
       "      <td>1869</td>\n",
       "      <td>7010-BRBUU</td>\n",
       "      <td>Male</td>\n",
       "      <td>0</td>\n",
       "      <td>Yes</td>\n",
       "      <td>Yes</td>\n",
       "      <td>72</td>\n",
       "      <td>Yes</td>\n",
       "      <td>Yes</td>\n",
       "      <td>No</td>\n",
       "      <td>...</td>\n",
       "      <td>No internet service</td>\n",
       "      <td>No internet service</td>\n",
       "      <td>No internet service</td>\n",
       "      <td>No internet service</td>\n",
       "      <td>Two year</td>\n",
       "      <td>No</td>\n",
       "      <td>Credit card (automatic)</td>\n",
       "      <td>24.10</td>\n",
       "      <td>1734.65</td>\n",
       "      <td>No</td>\n",
       "    </tr>\n",
       "    <tr>\n",
       "      <th>1</th>\n",
       "      <td>4528</td>\n",
       "      <td>9688-YGXVR</td>\n",
       "      <td>Female</td>\n",
       "      <td>0</td>\n",
       "      <td>No</td>\n",
       "      <td>No</td>\n",
       "      <td>44</td>\n",
       "      <td>Yes</td>\n",
       "      <td>No</td>\n",
       "      <td>Fiber optic</td>\n",
       "      <td>...</td>\n",
       "      <td>Yes</td>\n",
       "      <td>No</td>\n",
       "      <td>Yes</td>\n",
       "      <td>No</td>\n",
       "      <td>Month-to-month</td>\n",
       "      <td>Yes</td>\n",
       "      <td>Credit card (automatic)</td>\n",
       "      <td>88.15</td>\n",
       "      <td>3973.2</td>\n",
       "      <td>No</td>\n",
       "    </tr>\n",
       "    <tr>\n",
       "      <th>2</th>\n",
       "      <td>6344</td>\n",
       "      <td>9286-DOJGF</td>\n",
       "      <td>Female</td>\n",
       "      <td>1</td>\n",
       "      <td>Yes</td>\n",
       "      <td>No</td>\n",
       "      <td>38</td>\n",
       "      <td>Yes</td>\n",
       "      <td>Yes</td>\n",
       "      <td>Fiber optic</td>\n",
       "      <td>...</td>\n",
       "      <td>No</td>\n",
       "      <td>No</td>\n",
       "      <td>No</td>\n",
       "      <td>No</td>\n",
       "      <td>Month-to-month</td>\n",
       "      <td>Yes</td>\n",
       "      <td>Bank transfer (automatic)</td>\n",
       "      <td>74.95</td>\n",
       "      <td>2869.85</td>\n",
       "      <td>Yes</td>\n",
       "    </tr>\n",
       "    <tr>\n",
       "      <th>3</th>\n",
       "      <td>6739</td>\n",
       "      <td>6994-KERXL</td>\n",
       "      <td>Male</td>\n",
       "      <td>0</td>\n",
       "      <td>No</td>\n",
       "      <td>No</td>\n",
       "      <td>4</td>\n",
       "      <td>Yes</td>\n",
       "      <td>No</td>\n",
       "      <td>DSL</td>\n",
       "      <td>...</td>\n",
       "      <td>No</td>\n",
       "      <td>No</td>\n",
       "      <td>No</td>\n",
       "      <td>Yes</td>\n",
       "      <td>Month-to-month</td>\n",
       "      <td>Yes</td>\n",
       "      <td>Electronic check</td>\n",
       "      <td>55.90</td>\n",
       "      <td>238.5</td>\n",
       "      <td>No</td>\n",
       "    </tr>\n",
       "    <tr>\n",
       "      <th>4</th>\n",
       "      <td>432</td>\n",
       "      <td>2181-UAESM</td>\n",
       "      <td>Male</td>\n",
       "      <td>0</td>\n",
       "      <td>No</td>\n",
       "      <td>No</td>\n",
       "      <td>2</td>\n",
       "      <td>Yes</td>\n",
       "      <td>No</td>\n",
       "      <td>DSL</td>\n",
       "      <td>...</td>\n",
       "      <td>Yes</td>\n",
       "      <td>No</td>\n",
       "      <td>No</td>\n",
       "      <td>No</td>\n",
       "      <td>Month-to-month</td>\n",
       "      <td>No</td>\n",
       "      <td>Electronic check</td>\n",
       "      <td>53.45</td>\n",
       "      <td>119.5</td>\n",
       "      <td>No</td>\n",
       "    </tr>\n",
       "  </tbody>\n",
       "</table>\n",
       "<p>5 rows × 22 columns</p>\n",
       "</div>"
      ],
      "text/plain": [
       "   Unnamed: 0  customerID  gender  SeniorCitizen Partner Dependents  tenure  \\\n",
       "0        1869  7010-BRBUU    Male              0     Yes        Yes      72   \n",
       "1        4528  9688-YGXVR  Female              0      No         No      44   \n",
       "2        6344  9286-DOJGF  Female              1     Yes         No      38   \n",
       "3        6739  6994-KERXL    Male              0      No         No       4   \n",
       "4         432  2181-UAESM    Male              0      No         No       2   \n",
       "\n",
       "  PhoneService MultipleLines InternetService  ...     DeviceProtection  \\\n",
       "0          Yes           Yes              No  ...  No internet service   \n",
       "1          Yes            No     Fiber optic  ...                  Yes   \n",
       "2          Yes           Yes     Fiber optic  ...                   No   \n",
       "3          Yes            No             DSL  ...                   No   \n",
       "4          Yes            No             DSL  ...                  Yes   \n",
       "\n",
       "           TechSupport          StreamingTV      StreamingMovies  \\\n",
       "0  No internet service  No internet service  No internet service   \n",
       "1                   No                  Yes                   No   \n",
       "2                   No                   No                   No   \n",
       "3                   No                   No                  Yes   \n",
       "4                   No                   No                   No   \n",
       "\n",
       "         Contract PaperlessBilling              PaymentMethod MonthlyCharges  \\\n",
       "0        Two year               No    Credit card (automatic)          24.10   \n",
       "1  Month-to-month              Yes    Credit card (automatic)          88.15   \n",
       "2  Month-to-month              Yes  Bank transfer (automatic)          74.95   \n",
       "3  Month-to-month              Yes           Electronic check          55.90   \n",
       "4  Month-to-month               No           Electronic check          53.45   \n",
       "\n",
       "  TotalCharges  Churn  \n",
       "0      1734.65     No  \n",
       "1       3973.2     No  \n",
       "2      2869.85    Yes  \n",
       "3        238.5     No  \n",
       "4        119.5     No  \n",
       "\n",
       "[5 rows x 22 columns]"
      ]
     },
     "execution_count": 71,
     "metadata": {},
     "output_type": "execute_result"
    }
   ],
   "source": [
    "dataset2.head()"
   ]
  },
  {
   "cell_type": "code",
   "execution_count": 72,
   "metadata": {
    "colab": {
     "base_uri": "https://localhost:8080/"
    },
    "id": "rMfyOoPnreh_",
    "outputId": "d2134ac3-436f-47b1-9d5b-1a636270154e"
   },
   "outputs": [
    {
     "data": {
      "text/plain": [
       "(5986, 22)"
      ]
     },
     "execution_count": 72,
     "metadata": {},
     "output_type": "execute_result"
    }
   ],
   "source": [
    "dataset2.shape"
   ]
  },
  {
   "cell_type": "code",
   "execution_count": 73,
   "metadata": {
    "colab": {
     "base_uri": "https://localhost:8080/"
    },
    "id": "6VS_fBVVrfZO",
    "outputId": "aa59a260-dcbf-4630-b3ac-55da4f157c8a"
   },
   "outputs": [
    {
     "data": {
      "text/plain": [
       "[('Unnamed: 0', ('int64', 0)),\n",
       " ('customerID', ('object', 0)),\n",
       " ('gender', ('object', 0)),\n",
       " ('SeniorCitizen', ('int64', 0)),\n",
       " ('Partner', ('object', 0)),\n",
       " ('Dependents', ('object', 0)),\n",
       " ('tenure', ('int64', 0)),\n",
       " ('PhoneService', ('object', 0)),\n",
       " ('MultipleLines', ('object', 0)),\n",
       " ('InternetService', ('object', 0)),\n",
       " ('OnlineSecurity', ('object', 0)),\n",
       " ('OnlineBackup', ('object', 0)),\n",
       " ('DeviceProtection', ('object', 0)),\n",
       " ('TechSupport', ('object', 0)),\n",
       " ('StreamingTV', ('object', 0)),\n",
       " ('StreamingMovies', ('object', 0)),\n",
       " ('Contract', ('object', 0)),\n",
       " ('PaperlessBilling', ('object', 0)),\n",
       " ('PaymentMethod', ('object', 0)),\n",
       " ('MonthlyCharges', ('float64', 0)),\n",
       " ('TotalCharges', ('object', 0)),\n",
       " ('Churn', ('object', 0))]"
      ]
     },
     "execution_count": 73,
     "metadata": {},
     "output_type": "execute_result"
    }
   ],
   "source": [
    "data_features2 = list(zip(\n",
    "# признаки\n",
    "[i for i in dataset2.columns],\n",
    "zip(\n",
    "    # типы колонок\n",
    "    [str(i) for i in dataset2.dtypes],\n",
    "    # проверим есть ли пропущенные значения\n",
    "    [i for i in dataset2.isnull().sum()]\n",
    ")))\n",
    "# Признаки с типом данных и количеством пропусков\n",
    "data_features2"
   ]
  },
  {
   "cell_type": "code",
   "execution_count": 74,
   "metadata": {
    "colab": {
     "base_uri": "https://localhost:8080/",
     "height": 204
    },
    "id": "_t36lM91rtas",
    "outputId": "7b4d844f-9993-4e7f-8633-3af336e7ded6"
   },
   "outputs": [
    {
     "data": {
      "text/html": [
       "<div>\n",
       "<style scoped>\n",
       "    .dataframe tbody tr th:only-of-type {\n",
       "        vertical-align: middle;\n",
       "    }\n",
       "\n",
       "    .dataframe tbody tr th {\n",
       "        vertical-align: top;\n",
       "    }\n",
       "\n",
       "    .dataframe thead th {\n",
       "        text-align: right;\n",
       "    }\n",
       "</style>\n",
       "<table border=\"1\" class=\"dataframe\">\n",
       "  <thead>\n",
       "    <tr style=\"text-align: right;\">\n",
       "      <th></th>\n",
       "      <th>SeniorCitizen</th>\n",
       "      <th>gender</th>\n",
       "      <th>tenure</th>\n",
       "      <th>InternetService</th>\n",
       "      <th>Contract</th>\n",
       "      <th>PaymentMethod</th>\n",
       "      <th>MonthlyCharges</th>\n",
       "      <th>TotalCharges</th>\n",
       "    </tr>\n",
       "  </thead>\n",
       "  <tbody>\n",
       "    <tr>\n",
       "      <th>0</th>\n",
       "      <td>0</td>\n",
       "      <td>Male</td>\n",
       "      <td>72</td>\n",
       "      <td>No</td>\n",
       "      <td>Two year</td>\n",
       "      <td>Credit card (automatic)</td>\n",
       "      <td>24.10</td>\n",
       "      <td>1734.65</td>\n",
       "    </tr>\n",
       "    <tr>\n",
       "      <th>1</th>\n",
       "      <td>0</td>\n",
       "      <td>Female</td>\n",
       "      <td>44</td>\n",
       "      <td>Fiber optic</td>\n",
       "      <td>Month-to-month</td>\n",
       "      <td>Credit card (automatic)</td>\n",
       "      <td>88.15</td>\n",
       "      <td>3973.2</td>\n",
       "    </tr>\n",
       "    <tr>\n",
       "      <th>2</th>\n",
       "      <td>1</td>\n",
       "      <td>Female</td>\n",
       "      <td>38</td>\n",
       "      <td>Fiber optic</td>\n",
       "      <td>Month-to-month</td>\n",
       "      <td>Bank transfer (automatic)</td>\n",
       "      <td>74.95</td>\n",
       "      <td>2869.85</td>\n",
       "    </tr>\n",
       "    <tr>\n",
       "      <th>3</th>\n",
       "      <td>0</td>\n",
       "      <td>Male</td>\n",
       "      <td>4</td>\n",
       "      <td>DSL</td>\n",
       "      <td>Month-to-month</td>\n",
       "      <td>Electronic check</td>\n",
       "      <td>55.90</td>\n",
       "      <td>238.5</td>\n",
       "    </tr>\n",
       "    <tr>\n",
       "      <th>4</th>\n",
       "      <td>0</td>\n",
       "      <td>Male</td>\n",
       "      <td>2</td>\n",
       "      <td>DSL</td>\n",
       "      <td>Month-to-month</td>\n",
       "      <td>Electronic check</td>\n",
       "      <td>53.45</td>\n",
       "      <td>119.5</td>\n",
       "    </tr>\n",
       "  </tbody>\n",
       "</table>\n",
       "</div>"
      ],
      "text/plain": [
       "   SeniorCitizen  gender  tenure InternetService        Contract  \\\n",
       "0              0    Male      72              No        Two year   \n",
       "1              0  Female      44     Fiber optic  Month-to-month   \n",
       "2              1  Female      38     Fiber optic  Month-to-month   \n",
       "3              0    Male       4             DSL  Month-to-month   \n",
       "4              0    Male       2             DSL  Month-to-month   \n",
       "\n",
       "               PaymentMethod  MonthlyCharges TotalCharges  \n",
       "0    Credit card (automatic)           24.10      1734.65  \n",
       "1    Credit card (automatic)           88.15       3973.2  \n",
       "2  Bank transfer (automatic)           74.95      2869.85  \n",
       "3           Electronic check           55.90        238.5  \n",
       "4           Electronic check           53.45        119.5  "
      ]
     },
     "execution_count": 74,
     "metadata": {},
     "output_type": "execute_result"
    }
   ],
   "source": [
    "filtered_columns2 = ['SeniorCitizen', 'gender', 'tenure', 'InternetService', 'Contract', 'PaymentMethod', 'MonthlyCharges', 'TotalCharges']\n",
    "data2 = dataset2[filtered_columns2]\n",
    "data2.head()"
   ]
  },
  {
   "cell_type": "code",
   "execution_count": 75,
   "metadata": {
    "colab": {
     "base_uri": "https://localhost:8080/"
    },
    "id": "HB91vhlmrwAr",
    "outputId": "286174c8-52ed-46dd-c920-ab9c6d016060"
   },
   "outputs": [
    {
     "name": "stdout",
     "output_type": "stream",
     "text": [
      "Requirement already satisfied: category_encoders in /Library/Frameworks/Python.framework/Versions/3.9/lib/python3.9/site-packages (2.2.2)\n",
      "Requirement already satisfied: pandas>=0.21.1 in /Library/Frameworks/Python.framework/Versions/3.9/lib/python3.9/site-packages (from category_encoders) (1.2.4)\n",
      "Requirement already satisfied: numpy>=1.14.0 in /Users/andrejsilaev/Library/Python/3.9/lib/python/site-packages (from category_encoders) (1.20.3)\n",
      "Requirement already satisfied: scipy>=1.0.0 in /Library/Frameworks/Python.framework/Versions/3.9/lib/python3.9/site-packages (from category_encoders) (1.6.3)\n",
      "Requirement already satisfied: scikit-learn>=0.20.0 in /Library/Frameworks/Python.framework/Versions/3.9/lib/python3.9/site-packages (from category_encoders) (0.24.2)\n",
      "Requirement already satisfied: statsmodels>=0.9.0 in /Library/Frameworks/Python.framework/Versions/3.9/lib/python3.9/site-packages (from category_encoders) (0.12.2)\n",
      "Requirement already satisfied: patsy>=0.5.1 in /Library/Frameworks/Python.framework/Versions/3.9/lib/python3.9/site-packages (from category_encoders) (0.5.1)\n",
      "Requirement already satisfied: python-dateutil>=2.7.3 in /Library/Frameworks/Python.framework/Versions/3.9/lib/python3.9/site-packages (from pandas>=0.21.1->category_encoders) (2.8.1)\n",
      "Requirement already satisfied: pytz>=2017.3 in /Library/Frameworks/Python.framework/Versions/3.9/lib/python3.9/site-packages (from pandas>=0.21.1->category_encoders) (2021.1)\n",
      "Requirement already satisfied: six in /Library/Frameworks/Python.framework/Versions/3.9/lib/python3.9/site-packages (from patsy>=0.5.1->category_encoders) (1.15.0)\n",
      "Requirement already satisfied: joblib>=0.11 in /Library/Frameworks/Python.framework/Versions/3.9/lib/python3.9/site-packages (from scikit-learn>=0.20.0->category_encoders) (1.0.1)\n",
      "Requirement already satisfied: threadpoolctl>=2.0.0 in /Library/Frameworks/Python.framework/Versions/3.9/lib/python3.9/site-packages (from scikit-learn>=0.20.0->category_encoders) (2.1.0)\n"
     ]
    }
   ],
   "source": [
    "!pip install category_encoders\n",
    "from category_encoders.woe import WOEEncoder as ce_WOEEncoder"
   ]
  },
  {
   "cell_type": "code",
   "execution_count": 76,
   "metadata": {
    "colab": {
     "base_uri": "https://localhost:8080/"
    },
    "id": "kHTfr31wrwoU",
    "outputId": "83375ef0-f6ac-4b94-9895-97a5f60b7b77"
   },
   "outputs": [
    {
     "name": "stderr",
     "output_type": "stream",
     "text": [
      "/Library/Frameworks/Python.framework/Versions/3.9/lib/python3.9/site-packages/category_encoders/utils.py:21: FutureWarning: is_categorical is deprecated and will be removed in a future version.  Use is_categorical_dtype instead\n",
      "  elif pd.api.types.is_categorical(cols):\n"
     ]
    }
   ],
   "source": [
    "ce_WOEEncoder1 = ce_WOEEncoder()\n",
    "data_WOE_ENC = ce_WOEEncoder1.fit_transform(data2[data2.columns.difference(['SeniorCitizen'])], data2['SeniorCitizen'])"
   ]
  },
  {
   "cell_type": "code",
   "execution_count": 77,
   "metadata": {
    "colab": {
     "base_uri": "https://localhost:8080/"
    },
    "id": "VdaON0Sxryuj",
    "outputId": "5e2234c9-08d2-4a3b-cccd-fcbd050fa484"
   },
   "outputs": [
    {
     "data": {
      "text/plain": [
       "array(['No', 'Fiber optic', 'DSL'], dtype=object)"
      ]
     },
     "execution_count": 77,
     "metadata": {},
     "output_type": "execute_result"
    }
   ],
   "source": [
    "data2['InternetService'].unique()"
   ]
  },
  {
   "cell_type": "code",
   "execution_count": 78,
   "metadata": {
    "colab": {
     "base_uri": "https://localhost:8080/"
    },
    "id": "rctIXbFYr1Ik",
    "outputId": "34c2b61c-9459-49c6-d8ea-dcccd8fe6b98"
   },
   "outputs": [
    {
     "data": {
      "text/plain": [
       "array([-1.74767744,  0.64238762, -0.47283042])"
      ]
     },
     "execution_count": 78,
     "metadata": {},
     "output_type": "execute_result"
    }
   ],
   "source": [
    "data_WOE_ENC['InternetService'].unique()"
   ]
  },
  {
   "cell_type": "code",
   "execution_count": 79,
   "metadata": {
    "id": "1teOHdfkr4AD"
   },
   "outputs": [],
   "source": [
    "def check_woe_encoding(field):\n",
    "    data_ones = data2[data2['SeniorCitizen'] == 1].shape[0]\n",
    "    data_zeros = data2[data2['SeniorCitizen'] == 0].shape[0]\n",
    "    \n",
    "    for s in data2[field].unique():\n",
    "        data_filter = data2[data2[field]==s]\n",
    "        if data_filter.shape[0] > 0:\n",
    "            \n",
    "            filter_data_ones = data_filter[data_filter['SeniorCitizen'] == 1].shape[0]\n",
    "            filter_data_zeros = data_filter[data_filter['SeniorCitizen'] == 0].shape[0]\n",
    "\n",
    "            good = filter_data_ones / data_ones\n",
    "            bad = filter_data_zeros / data_zeros\n",
    "            \n",
    "            woe = np.log(good/bad)\n",
    "            print(s, '-' , woe)"
   ]
  },
  {
   "cell_type": "code",
   "execution_count": 80,
   "metadata": {
    "colab": {
     "base_uri": "https://localhost:8080/"
    },
    "id": "q-rgSClOr8g9",
    "outputId": "227d6faf-e0b1-4335-a16f-c7d7cc97456b"
   },
   "outputs": [
    {
     "name": "stdout",
     "output_type": "stream",
     "text": [
      "No - -1.769305385118782\n",
      "Fiber optic - 0.6431579890425195\n",
      "DSL - -0.47513390020823026\n"
     ]
    }
   ],
   "source": [
    "check_woe_encoding('InternetService')"
   ]
  },
  {
   "cell_type": "markdown",
   "metadata": {
    "id": "TxnegPGisMPe"
   },
   "source": [
    "#### Нормализация числовых признаков"
   ]
  },
  {
   "cell_type": "code",
   "execution_count": 81,
   "metadata": {
    "id": "u7pWfa0gDJTL"
   },
   "outputs": [],
   "source": [
    "data3 = pd.read_csv(path+'/Video_Games_Sales.csv', decimal=\".\")"
   ]
  },
  {
   "cell_type": "code",
   "execution_count": 82,
   "metadata": {
    "colab": {
     "base_uri": "https://localhost:8080/",
     "height": 292
    },
    "id": "I-9HvSTkDJIq",
    "outputId": "88eaad3e-43a9-48f4-d596-04fb902cbf28"
   },
   "outputs": [
    {
     "data": {
      "text/html": [
       "<div>\n",
       "<style scoped>\n",
       "    .dataframe tbody tr th:only-of-type {\n",
       "        vertical-align: middle;\n",
       "    }\n",
       "\n",
       "    .dataframe tbody tr th {\n",
       "        vertical-align: top;\n",
       "    }\n",
       "\n",
       "    .dataframe thead th {\n",
       "        text-align: right;\n",
       "    }\n",
       "</style>\n",
       "<table border=\"1\" class=\"dataframe\">\n",
       "  <thead>\n",
       "    <tr style=\"text-align: right;\">\n",
       "      <th></th>\n",
       "      <th>Name</th>\n",
       "      <th>Platform</th>\n",
       "      <th>Year_of_Release</th>\n",
       "      <th>Genre</th>\n",
       "      <th>Publisher</th>\n",
       "      <th>NA_Sales</th>\n",
       "      <th>EU_Sales</th>\n",
       "      <th>JP_Sales</th>\n",
       "      <th>Other_Sales</th>\n",
       "      <th>Global_Sales</th>\n",
       "      <th>Critic_Score</th>\n",
       "      <th>Critic_Count</th>\n",
       "      <th>User_Score</th>\n",
       "      <th>User_Count</th>\n",
       "      <th>Developer</th>\n",
       "      <th>Rating</th>\n",
       "    </tr>\n",
       "  </thead>\n",
       "  <tbody>\n",
       "    <tr>\n",
       "      <th>0</th>\n",
       "      <td>Wii Sports</td>\n",
       "      <td>Wii</td>\n",
       "      <td>2006.0</td>\n",
       "      <td>Sports</td>\n",
       "      <td>Nintendo</td>\n",
       "      <td>41.36</td>\n",
       "      <td>28.96</td>\n",
       "      <td>3.77</td>\n",
       "      <td>8.45</td>\n",
       "      <td>82.53</td>\n",
       "      <td>76.0</td>\n",
       "      <td>51.0</td>\n",
       "      <td>8</td>\n",
       "      <td>322.0</td>\n",
       "      <td>Nintendo</td>\n",
       "      <td>E</td>\n",
       "    </tr>\n",
       "    <tr>\n",
       "      <th>1</th>\n",
       "      <td>Super Mario Bros.</td>\n",
       "      <td>NES</td>\n",
       "      <td>1985.0</td>\n",
       "      <td>Platform</td>\n",
       "      <td>Nintendo</td>\n",
       "      <td>29.08</td>\n",
       "      <td>3.58</td>\n",
       "      <td>6.81</td>\n",
       "      <td>0.77</td>\n",
       "      <td>40.24</td>\n",
       "      <td>NaN</td>\n",
       "      <td>NaN</td>\n",
       "      <td>NaN</td>\n",
       "      <td>NaN</td>\n",
       "      <td>NaN</td>\n",
       "      <td>NaN</td>\n",
       "    </tr>\n",
       "    <tr>\n",
       "      <th>2</th>\n",
       "      <td>Mario Kart Wii</td>\n",
       "      <td>Wii</td>\n",
       "      <td>2008.0</td>\n",
       "      <td>Racing</td>\n",
       "      <td>Nintendo</td>\n",
       "      <td>15.68</td>\n",
       "      <td>12.76</td>\n",
       "      <td>3.79</td>\n",
       "      <td>3.29</td>\n",
       "      <td>35.52</td>\n",
       "      <td>82.0</td>\n",
       "      <td>73.0</td>\n",
       "      <td>8.3</td>\n",
       "      <td>709.0</td>\n",
       "      <td>Nintendo</td>\n",
       "      <td>E</td>\n",
       "    </tr>\n",
       "    <tr>\n",
       "      <th>3</th>\n",
       "      <td>Wii Sports Resort</td>\n",
       "      <td>Wii</td>\n",
       "      <td>2009.0</td>\n",
       "      <td>Sports</td>\n",
       "      <td>Nintendo</td>\n",
       "      <td>15.61</td>\n",
       "      <td>10.93</td>\n",
       "      <td>3.28</td>\n",
       "      <td>2.95</td>\n",
       "      <td>32.77</td>\n",
       "      <td>80.0</td>\n",
       "      <td>73.0</td>\n",
       "      <td>8</td>\n",
       "      <td>192.0</td>\n",
       "      <td>Nintendo</td>\n",
       "      <td>E</td>\n",
       "    </tr>\n",
       "    <tr>\n",
       "      <th>4</th>\n",
       "      <td>Pokemon Red/Pokemon Blue</td>\n",
       "      <td>GB</td>\n",
       "      <td>1996.0</td>\n",
       "      <td>Role-Playing</td>\n",
       "      <td>Nintendo</td>\n",
       "      <td>11.27</td>\n",
       "      <td>8.89</td>\n",
       "      <td>10.22</td>\n",
       "      <td>1.00</td>\n",
       "      <td>31.37</td>\n",
       "      <td>NaN</td>\n",
       "      <td>NaN</td>\n",
       "      <td>NaN</td>\n",
       "      <td>NaN</td>\n",
       "      <td>NaN</td>\n",
       "      <td>NaN</td>\n",
       "    </tr>\n",
       "  </tbody>\n",
       "</table>\n",
       "</div>"
      ],
      "text/plain": [
       "                       Name Platform  Year_of_Release         Genre Publisher  \\\n",
       "0                Wii Sports      Wii           2006.0        Sports  Nintendo   \n",
       "1         Super Mario Bros.      NES           1985.0      Platform  Nintendo   \n",
       "2            Mario Kart Wii      Wii           2008.0        Racing  Nintendo   \n",
       "3         Wii Sports Resort      Wii           2009.0        Sports  Nintendo   \n",
       "4  Pokemon Red/Pokemon Blue       GB           1996.0  Role-Playing  Nintendo   \n",
       "\n",
       "   NA_Sales  EU_Sales  JP_Sales  Other_Sales  Global_Sales  Critic_Score  \\\n",
       "0     41.36     28.96      3.77         8.45         82.53          76.0   \n",
       "1     29.08      3.58      6.81         0.77         40.24           NaN   \n",
       "2     15.68     12.76      3.79         3.29         35.52          82.0   \n",
       "3     15.61     10.93      3.28         2.95         32.77          80.0   \n",
       "4     11.27      8.89     10.22         1.00         31.37           NaN   \n",
       "\n",
       "   Critic_Count User_Score  User_Count Developer Rating  \n",
       "0          51.0          8       322.0  Nintendo      E  \n",
       "1           NaN        NaN         NaN       NaN    NaN  \n",
       "2          73.0        8.3       709.0  Nintendo      E  \n",
       "3          73.0          8       192.0  Nintendo      E  \n",
       "4           NaN        NaN         NaN       NaN    NaN  "
      ]
     },
     "execution_count": 82,
     "metadata": {},
     "output_type": "execute_result"
    }
   ],
   "source": [
    "data3.head()"
   ]
  },
  {
   "cell_type": "code",
   "execution_count": 83,
   "metadata": {
    "id": "HMy1hLHqCHMR"
   },
   "outputs": [],
   "source": [
    "def diagnostic_plots(df, variable):\n",
    "    plt.figure(figsize=(15,6))\n",
    "    # гистограмма\n",
    "    plt.subplot(1, 2, 1)\n",
    "    df[variable].hist(bins=30)\n",
    "    ## Q-Q plot\n",
    "    plt.subplot(1, 2, 2)\n",
    "    stats.probplot(df[variable], dist=\"norm\", plot=plt)\n",
    "    plt.show()"
   ]
  },
  {
   "cell_type": "code",
   "execution_count": 84,
   "metadata": {
    "colab": {
     "base_uri": "https://localhost:8080/",
     "height": 410
    },
    "id": "GRVCdGDksPon",
    "outputId": "7a4e3e2c-3f6e-4698-84f4-1700379bafd3"
   },
   "outputs": [
    {
     "data": {
      "image/png": "[encoded data removed]",
      "text/plain": [
       "<Figure size 1080x432 with 2 Axes>"
      ]
     },
     "metadata": {},
     "output_type": "display_data"
    }
   ],
   "source": [
    "data3['Global_Sales_log'] = np.log(data3['Global_Sales'])\n",
    "diagnostic_plots(data3, 'Global_Sales_log')"
   ]
  }
 ],
 "metadata": {
  "colab": {
   "name": "lr2.ipynb",
   "provenance": []
  },
  "kernelspec": {
   "display_name": "Python 3",
   "language": "python",
   "name": "python3"
  },
  "language_info": {
   "codemirror_mode": {
    "name": "ipython",
    "version": 3
   },
   "file_extension": ".py",
   "mimetype": "text/x-python",
   "name": "python",
   "nbconvert_exporter": "python",
   "pygments_lexer": "ipython3",
   "version": "3.9.5"
  }
 },
 "nbformat": 4,
 "nbformat_minor": 1
}
